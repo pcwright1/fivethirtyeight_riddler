{
 "cells": [
  {
   "cell_type": "markdown",
   "metadata": {},
   "source": [
    "# Rolling (Changing) Dice\n",
    "\n",
    "In this notebook, we will analyze and solve the FiveThirtyEight Riddler problem from Mar 27, 2020:\n",
    "\n",
    "https://fivethirtyeight.com/features/can-you-get-the-gloves-out-of-the-box/\n",
    "\n"
   ]
  },
  {
   "cell_type": "markdown",
   "metadata": {},
   "source": [
    "----"
   ]
  },
  {
   "cell_type": "markdown",
   "metadata": {},
   "source": [
    "From the site:\n",
    "\n",
    "**You start with a fair 6-sided die and roll it six times, recording the results of each roll. You then write these numbers on the six faces of another, unlabeled fair die. For example, if your six rolls were 3, 5, 3, 6, 1 and 2, then your second die wouldn’t have a 4 on it; instead, it would have two 3s.**\n",
    "\n",
    "**Next, you roll this second die six times. You take those six numbers and write them on the faces of yet another fair die, and you continue this process of generating a new die from the previous one.**\n",
    "\n",
    "**Eventually, you’ll have a die with the same number on all six faces. What is the average number of rolls it will take to reach this state?**\n",
    "\n",
    "**Extra credit: Instead of a standard 6-sided die, suppose you have an N-sided die, whose sides are numbered from 1 to N. What is the average number of rolls it would take until all N sides show the same number?**\n",
    "\n"
   ]
  },
  {
   "cell_type": "markdown",
   "metadata": {},
   "source": [
    "# Overview\n",
    "\n",
    "To answer the above question(s), we solve this a few different ways. First, we simulate the dice rolling and approximate the solution from the simulations. Second, we solve by hand the case of N=3. Last, we implement the manual solution in Python to enable solving for higher values of N."
   ]
  },
  {
   "cell_type": "markdown",
   "metadata": {},
   "source": [
    "## Simulation"
   ]
  },
  {
   "cell_type": "code",
   "execution_count": 1,
   "metadata": {},
   "outputs": [],
   "source": [
    "import pandas as pd\n",
    "import numpy as np"
   ]
  },
  {
   "cell_type": "markdown",
   "metadata": {},
   "source": [
    "A helper function:"
   ]
  },
  {
   "cell_type": "code",
   "execution_count": 2,
   "metadata": {},
   "outputs": [],
   "source": [
    "def roll_dice(dice_counts):\n",
    "    \"\"\"\n",
    "    Simulate rolling a dice. Returns N samples from die as a np array, \n",
    "    where N is the number of sides in the original dice.\n",
    "    \"\"\"\n",
    "    return np.random.choice(dice_counts, len(dice_counts))\n",
    "  \n"
   ]
  },
  {
   "cell_type": "code",
   "execution_count": 3,
   "metadata": {},
   "outputs": [
    {
     "name": "stdout",
     "output_type": "stream",
     "text": [
      "[1 1 2]\n"
     ]
    }
   ],
   "source": [
    "# Test\n",
    "print(roll_dice([1,2,3]))"
   ]
  },
  {
   "cell_type": "markdown",
   "metadata": {},
   "source": [
    "### Simulate\n",
    "First, we create a function to do the simulation"
   ]
  },
  {
   "cell_type": "code",
   "execution_count": 4,
   "metadata": {},
   "outputs": [],
   "source": [
    "def simulate(dice_to_simulate = [1,2,3,4,5,6], num_iterations = 10000):\n",
    "    result = []\n",
    "    for i in range(num_iterations):\n",
    "        dice = dice_to_simulate\n",
    "        roll_count = 0\n",
    "        # while the number of distinct values on the dice is >1\n",
    "\n",
    "        while len(np.unique(dice)) > 1:\n",
    "            roll_count = roll_count + 1\n",
    "            dice = roll_dice(dice)\n",
    "        result.append(roll_count)\n",
    "    return result"
   ]
  },
  {
   "cell_type": "markdown",
   "metadata": {},
   "source": [
    "Next, we perform the actual simulation:"
   ]
  },
  {
   "cell_type": "code",
   "execution_count": 5,
   "metadata": {},
   "outputs": [
    {
     "name": "stdout",
     "output_type": "stream",
     "text": [
      "The average number of rolls needed by simulation: 9.6344\n",
      "CPU times: user 2.42 s, sys: 9.47 ms, total: 2.43 s\n",
      "Wall time: 2.45 s\n"
     ]
    }
   ],
   "source": [
    "%%time \n",
    "sim_result = simulate()\n",
    "print(\"The average number of rolls needed by simulation: \" + str(np.mean(sim_result)))"
   ]
  },
  {
   "cell_type": "markdown",
   "metadata": {},
   "source": [
    "Just for fun, we plot results:"
   ]
  },
  {
   "cell_type": "code",
   "execution_count": 6,
   "metadata": {},
   "outputs": [
    {
     "data": {
      "text/plain": [
       "<matplotlib.figure.Figure at 0x1133ab128>"
      ]
     },
     "metadata": {},
     "output_type": "display_data"
    }
   ],
   "source": [
    "import matplotlib.pyplot as plt\n",
    "plt.hist(sim_result,bins=max(sim_result),normed=True)\n",
    "plt.show()"
   ]
  },
  {
   "cell_type": "markdown",
   "metadata": {},
   "source": [
    "Last, we plot N and the simulated result for N:"
   ]
  },
  {
   "cell_type": "code",
   "execution_count": null,
   "metadata": {},
   "outputs": [],
   "source": []
  },
  {
   "cell_type": "code",
   "execution_count": 7,
   "metadata": {},
   "outputs": [
    {
     "name": "stdout",
     "output_type": "stream",
     "text": [
      "2 2.0043\n",
      "3 3.8933\n",
      "4 5.7998\n",
      "5 7.7116\n",
      "6 9.6793\n",
      "7 11.6025\n",
      "8 13.6235\n",
      "9 15.7277\n",
      "10 17.4513\n",
      "11 19.3492\n",
      "12 21.3688\n",
      "13 23.1285\n",
      "14 25.4253\n"
     ]
    },
    {
     "data": {
      "image/png": "[encoded data removed]",
      "text/plain": [
       "<matplotlib.figure.Figure at 0x11ccf0748>"
      ]
     },
     "metadata": {},
     "output_type": "display_data"
    }
   ],
   "source": [
    "result_by_N_sim = []\n",
    "for N in np.arange(2,15):\n",
    "    sim_result = simulate(dice_to_simulate = list(np.arange(N)+1))\n",
    "    print(str(N) + \" \" + str(np.mean(sim_result)))\n",
    "    result_by_N_sim.append([N,np.mean(sim_result)])\n",
    "plt.plot(np.array(result_by_N_sim).T[0],np.array(result_by_N_sim).T[1])\n",
    "plt.show()"
   ]
  },
  {
   "cell_type": "code",
   "execution_count": 8,
   "metadata": {},
   "outputs": [
    {
     "data": {
      "text/plain": [
       "array([[ 2.    ,  2.0043],\n",
       "       [ 3.    ,  3.8933],\n",
       "       [ 4.    ,  5.7998],\n",
       "       [ 5.    ,  7.7116],\n",
       "       [ 6.    ,  9.6793],\n",
       "       [ 7.    , 11.6025],\n",
       "       [ 8.    , 13.6235],\n",
       "       [ 9.    , 15.7277],\n",
       "       [10.    , 17.4513],\n",
       "       [11.    , 19.3492],\n",
       "       [12.    , 21.3688],\n",
       "       [13.    , 23.1285],\n",
       "       [14.    , 25.4253]])"
      ]
     },
     "execution_count": 8,
     "metadata": {},
     "output_type": "execute_result"
    }
   ],
   "source": [
    "np.array(result_by_N_sim)"
   ]
  },
  {
   "cell_type": "markdown",
   "metadata": {},
   "source": [
    "### Manual Calculation for N=3\n",
    "#### Observations and Notation\n",
    "Next, we calculate for the N=3 case manually. First, note that there are 27 possible rolls:\n",
    "\n",
    "* (1,1,1)\n",
    "* (1,1,2)\n",
    "* (1,1,3)\n",
    "* (1,2,1)\n",
    "...\n",
    "* (3,2,3)\n",
    "* (3,3,1)\n",
    "* (3,3,2)\n",
    "* (3,3,3)\n",
    "\n",
    "There are a few important observations that will help us:\n",
    "\n",
    "* We use $E(x)$ to denote the expected the number of rolls needed for a the dice x to converge on 1 number.\n",
    "* E[(1,1,1)] = 0 , since the dice has already converged.\n",
    "* E[(2,2,2)] = E[(1,1,1)] since both dice have already converged.\n",
    "* E[(1,1,2)] = E[(1,2,2)] since both dice have 2 instances of one number and one instance of another number.\n",
    "\n",
    "The last observation is important, and leads us to a new notation to simplify the work. The new notation is counts of instances of each number, sorted. So (1,1,1) -> (3,0,0) since '1' shows up three times. Similarly, (2,2,2) -> (3,0,0). This annotation maps all dice with the same expected number of rolls ($E$) to the same value!\n",
    "\n",
    "The rest of this section will use the NEW notation.\n",
    "\n",
    "#### Calculating N=3\n",
    "\n",
    "For N=3, we start with a dice of (1,1,1). Remember that this means that we have one count of each number (so one one, one two and one three). The possible rolls for this dice are:\n",
    "\n",
    "* (3,0,0)\n",
    "* (2,1,0)\n",
    "* (1,1,1)\n",
    "\n",
    "Using this, we come to the equation that will give us the answer:\n",
    "\n",
    "$$E[(1,1,1)] = P[(1,1,1)]E[(1,1,1)]+P[(3,0,0)]E[(3,0,0)]+P[(2,1,0)]E[(2,1,0)]+1$$\n",
    "\n",
    "Solving for $E[(1,1,1)]$ will provide us the expected number of rolls to get to a converged die.\n",
    "\n",
    "#### Calculating Probabilities\n",
    "\n",
    "We can calculate their probabilities a few ways, but since the counts are small we will do it manually. \n",
    "\n",
    "The first case of (3,0,0) is all the number are the same. There are only 3 outcomes that achieve this (all 1's is one of them).\n",
    "\n",
    "The third case is all different and there are 6 cases that achieve this. (1,2,3) is one of them, but permutations also count including (1,3,2).\n",
    "\n",
    "The remaining 18/27 cases are the middle scenario, giving probabilities of:\n",
    "\n",
    "| Outcome | Probability   |\n",
    "|------|------|\n",
    "|  (3,0,0) | 3/27|\n",
    "|  (2,1,0) | 18/27|\n",
    "|  (1,1,1) | 6/27|\n",
    "\n",
    "#### Calculating Expected Values\n",
    "Next, we calculate $E(x)$ for each of the three cases.\n",
    "\n",
    "The first case is easy since (3,0,0) indicated the dice has already converged and $E[(3,0,0)] = 0$.\n",
    "\n",
    "The third case is what we are solving for, so we will combine this with what's on the left hand side and simplify.\n",
    "\n",
    "The (2,1,0) case needs further consideration. This case is instances of one number appearing twice on the dice and another number appearing once. So, the possible outcomes are\n",
    "\n",
    "* (3,0,0)\n",
    "* (2,1,0)\n",
    "\n",
    "Of the 27 possibilities (3 options for each of three rolls is 3*3*3=27), 9 are the first case. Since $E(3,0,0)=0$, this term drops out.\n",
    "\n",
    "The other 18 are from the second case. We add one to include having to roll again to obtain these states. From this, we obtain:\n",
    "\n",
    "$$E[(2,1,0)] = P[(2,1,0)]E[(2,1,0)]+P[(3,0,0)]E[(3,0,0)]+1$$\n",
    "$$ = \\frac{18}{27}E[(2,1,0)]+1$$\n",
    "\n",
    "This implies\n",
    "\n",
    "$$E[(2,1,0)] = 3$$\n",
    "\n",
    "Plugging all this back into the equation above:\n",
    "\n",
    "$$E[(1,1,1)] = P[(1,1,1)]E[(1,1,1)]+P[(3,0,0)]E[(3,0,0)]+P[(2,1,0)]E[(2,1,0)]+1$$\n",
    "Removing the (3,0,0) term since that equals 1, we obtain\n",
    "$$E[(1,1,1)] = \\frac{6}{27}E[(1,1,1)]+\\frac{18}{27}3+1$$\n",
    "\n",
    "Joining the terms and simplifying, we get:\n",
    "\n",
    "$$E[(1,1,1)] = \\frac{27}{7} \\approx 3.857$$\n",
    "\n",
    "This aligns well with our simulation result for N=3 of 3.821\n"
   ]
  },
  {
   "cell_type": "markdown",
   "metadata": {},
   "source": [
    "# Coding the Solution\n",
    "\n",
    "We take advantage of a few items to code the solution\n",
    "\n",
    "1) We know that $E[(3,0,0)]=0$\n",
    "2) We can calculate the probability of each possible P[x] by counting the possible outcomes\n",
    "3) If we create the equation for each possible outcome (in the converted annotation system), then we can convert to a solveable linear algebra problem of the form $Ax=b$ where $A$ are the probabilistic weights in each equation, $x$ is $E[x]$ and b is some constant that is derivable with minimal algebra.\n",
    "\n",
    "### We start with some helper functions\n",
    "* convert_to_count : Converts a dice from its raw numbers to its converted values. \n",
    "  * e.g. [1,1,2] -> [2,1,0]\n",
    "* convert_to_example_raw : Converts a dice from its converted values to an example raw die. \n",
    "  * e.g. [2,1,0] -> [1,1,2]\n",
    "* print_possible_rolls : Creates an array of all possible rolls of length N (using the raw format) from a given die of length N. \n",
    "  * e.g. [1,2] -> [[1,1],[1,2],[2,1],[2,2]]"
   ]
  },
  {
   "cell_type": "code",
   "execution_count": 9,
   "metadata": {},
   "outputs": [
    {
     "name": "stdout",
     "output_type": "stream",
     "text": [
      "(2, 1, 1, 0)\n"
     ]
    }
   ],
   "source": [
    "def convert_to_count(dice):\n",
    "    out_dice = []\n",
    "    for i in range(len(dice)):\n",
    "        out_dice.append(sum(np.array(dice)==i+1))\n",
    "    #print(out_dice)\n",
    "    \n",
    "    # return in descending sorted order\n",
    "    \n",
    "    #return tuple(np.sort(out_dice)[::-1])\n",
    "    return tuple(sorted(out_dice)[::-1])\n",
    "\n",
    "print(convert_to_count([1,1,2,3]))\n"
   ]
  },
  {
   "cell_type": "code",
   "execution_count": 10,
   "metadata": {},
   "outputs": [
    {
     "name": "stdout",
     "output_type": "stream",
     "text": [
      "[1, 1, 2]\n"
     ]
    }
   ],
   "source": [
    "def convert_to_example_raw(dice):\n",
    "    out_dice = []\n",
    "    for i in range(len(dice)):\n",
    "        #print(\"i\"+ str(i))\n",
    "        for ct in range(dice[i]):\n",
    "            #print(i+1)\n",
    "            out_dice.append(i+1)\n",
    "    return out_dice\n",
    "\n",
    "\n",
    "# A test / example\n",
    "print(convert_to_example_raw([2,1,0]))"
   ]
  },
  {
   "cell_type": "code",
   "execution_count": 11,
   "metadata": {},
   "outputs": [
    {
     "name": "stdout",
     "output_type": "stream",
     "text": [
      "Possible rolls: [(1, 1, 1), (1, 1, 2), (1, 1, 3), (1, 2, 1), (1, 2, 2), (1, 2, 3), (1, 3, 1), (1, 3, 2), (1, 3, 3), (2, 1, 1), (2, 1, 2), (2, 1, 3), (2, 2, 1), (2, 2, 2), (2, 2, 3), (2, 3, 1), (2, 3, 2), (2, 3, 3), (3, 1, 1), (3, 1, 2), (3, 1, 3), (3, 2, 1), (3, 2, 2), (3, 2, 3), (3, 3, 1), (3, 3, 2), (3, 3, 3)]\n",
      "Possible rols converted: [(3, 0, 0), (2, 1, 0), (2, 1, 0), (2, 1, 0), (2, 1, 0), (1, 1, 1), (2, 1, 0), (1, 1, 1), (2, 1, 0), (2, 1, 0), (2, 1, 0), (1, 1, 1), (2, 1, 0), (3, 0, 0), (2, 1, 0), (1, 1, 1), (2, 1, 0), (2, 1, 0), (2, 1, 0), (1, 1, 1), (2, 1, 0), (1, 1, 1), (2, 1, 0), (2, 1, 0), (2, 1, 0), (2, 1, 0), (3, 0, 0)]\n"
     ]
    }
   ],
   "source": [
    "from itertools import product\n",
    "# from itertools import permutations\n",
    "\n",
    "# the second argument can be however\n",
    "                                            # many die you want to roll.\n",
    "\n",
    "def print_possible_rolls(dice):\n",
    "    outcomes = list(product(dice, repeat=len(dice))) \n",
    "    return outcomes\n",
    "\n",
    "\n",
    "# A test / example\n",
    "poss_vals = print_possible_rolls([1,2,3])\n",
    "print(\"Possible rolls: \" + str(poss_vals))\n",
    "poss_conv_vals = [convert_to_count(i) for i in poss_vals]\n",
    "print(\"Possible rols converted: \" + str(poss_conv_vals))"
   ]
  },
  {
   "cell_type": "markdown",
   "metadata": {},
   "source": [
    "### Our Final Function\n",
    "\n",
    "Finally, we have a helper function that takes the dice size and outputs all possible $[x, E[x]]$ pairs for the die.\n",
    "\n",
    "Pseudocode:\n",
    "* Identify all possible rolls and (more importantly) all possible converted rolls.\n",
    "* for each possible converted roll:\n",
    "  * if the roll is solve (e.g. [4,0,0,0]) then return E(x)=0.\n",
    "  * Else:\n",
    "    * calculate the possible converted outcomes for the 1st converted roll\n",
    "    * For all possible converted outcomes, calculate the probability of that happening by (# occurances)/(N^N)\n",
    "    * If the possible converted outcome == first roll then subtract 1 (to account for having to move the '+1' over)\n",
    "    * Add the weights to A and the calculated value (always -1 since we didn't scale) to B\n",
    "* Calculate $Ax=B$ for x since x is our expectation\n",
    "\n",
    "This returns $E[(x)]$ for all x. If you only want the starting expectation then look for the die with all ones (or take the max $E[(x)]$ from the list)"
   ]
  },
  {
   "cell_type": "code",
   "execution_count": 12,
   "metadata": {},
   "outputs": [],
   "source": [
    "import time"
   ]
  },
  {
   "cell_type": "code",
   "execution_count": 13,
   "metadata": {},
   "outputs": [],
   "source": [
    "def calculate_probs(dice_size):\n",
    "    start_time = time.time()\n",
    "    poss_rolls = print_possible_rolls(np.array([i+1 for i in range(dice_size)]))\n",
    "    # print(poss_rolls)\n",
    "    poss_conv_vals = [convert_to_count(i) for i in poss_rolls]\n",
    "    # print(poss_conv_vals)\n",
    "\n",
    "    uniq_global_poss_conv_vals = list(set(poss_conv_vals))\n",
    "    #print(uniq_poss_conv_vals)\n",
    "\n",
    "    # initialize variable\n",
    "    A = []\n",
    "    B = []\n",
    "\n",
    "    #print(\"entering first loop: \" + str(time.time() - start_time))\n",
    "    for val in uniq_global_poss_conv_vals:\n",
    "        if val[0] == len(val): # e.g. (3,0,0), then this is solved\n",
    "            #A.append(list(val))\n",
    "            new_row = []\n",
    "            for outcome in uniq_global_poss_conv_vals:\n",
    "                if outcome == val:\n",
    "                    new_row.append(1)\n",
    "                else:\n",
    "                    new_row.append(0)\n",
    "            A.append(new_row)\n",
    "            B.append(0) # already solved so 0 more rolls needed\n",
    "        else:  # e.g. (2,1,0) - need to document\n",
    "            #poss_outcomes = print_possible_rolls(np.array([i+1 for i in range(dice_size)]))\n",
    "            poss_outcomes = print_possible_rolls(convert_to_example_raw(val))\n",
    "            # convert_to_example_raw\n",
    "            poss_conv_outcomes = [convert_to_count(i) for i in poss_outcomes]\n",
    "            new_row = []\n",
    "            new_result = -1\n",
    "            for outcome in uniq_global_poss_conv_vals:\n",
    "                # first get the likelihood of rolling this outcome\n",
    "                val_to_add = poss_conv_outcomes.count(outcome)/float(len(poss_conv_outcomes))\n",
    "                # then subtract 1 if this the same as val to account for algebra needed\n",
    "                if outcome == val:\n",
    "                    val_to_add = val_to_add - 1\n",
    "                new_row.append(val_to_add)\n",
    "            A.append(new_row)\n",
    "            B.append(new_result)\n",
    "\n",
    "    # Now solve us Ax = B\n",
    "    x = np.linalg.solve(A, B)\n",
    "    \n",
    "    # Return as a pd dataframe the number of rolls needed for each converted combination of die\n",
    "    return pd.DataFrame([a for a in zip(uniq_global_poss_conv_vals, x)])\n"
   ]
  },
  {
   "cell_type": "code",
   "execution_count": 14,
   "metadata": {},
   "outputs": [
    {
     "name": "stdout",
     "output_type": "stream",
     "text": [
      "CPU times: user 56.2 s, sys: 231 ms, total: 56.4 s\n",
      "Wall time: 57.3 s\n"
     ]
    },
    {
     "data": {
      "text/html": [
       "<div>\n",
       "<style scoped>\n",
       "    .dataframe tbody tr th:only-of-type {\n",
       "        vertical-align: middle;\n",
       "    }\n",
       "\n",
       "    .dataframe tbody tr th {\n",
       "        vertical-align: top;\n",
       "    }\n",
       "\n",
       "    .dataframe thead th {\n",
       "        text-align: right;\n",
       "    }\n",
       "</style>\n",
       "<table border=\"1\" class=\"dataframe\">\n",
       "  <thead>\n",
       "    <tr style=\"text-align: right;\">\n",
       "      <th></th>\n",
       "      <th>0</th>\n",
       "      <th>1</th>\n",
       "    </tr>\n",
       "  </thead>\n",
       "  <tbody>\n",
       "    <tr>\n",
       "      <th>0</th>\n",
       "      <td>(4, 1, 1, 0, 0, 0)</td>\n",
       "      <td>6.962615</td>\n",
       "    </tr>\n",
       "    <tr>\n",
       "      <th>1</th>\n",
       "      <td>(2, 1, 1, 1, 1, 0)</td>\n",
       "      <td>9.278217</td>\n",
       "    </tr>\n",
       "    <tr>\n",
       "      <th>2</th>\n",
       "      <td>(3, 3, 0, 0, 0, 0)</td>\n",
       "      <td>7.205028</td>\n",
       "    </tr>\n",
       "    <tr>\n",
       "      <th>3</th>\n",
       "      <td>(3, 2, 1, 0, 0, 0)</td>\n",
       "      <td>8.052735</td>\n",
       "    </tr>\n",
       "    <tr>\n",
       "      <th>4</th>\n",
       "      <td>(2, 2, 2, 0, 0, 0)</td>\n",
       "      <td>8.522669</td>\n",
       "    </tr>\n",
       "    <tr>\n",
       "      <th>5</th>\n",
       "      <td>(4, 2, 0, 0, 0, 0)</td>\n",
       "      <td>6.584840</td>\n",
       "    </tr>\n",
       "    <tr>\n",
       "      <th>6</th>\n",
       "      <td>(2, 2, 1, 1, 0, 0)</td>\n",
       "      <td>8.900443</td>\n",
       "    </tr>\n",
       "    <tr>\n",
       "      <th>7</th>\n",
       "      <td>(6, 0, 0, 0, 0, 0)</td>\n",
       "      <td>0.000000</td>\n",
       "    </tr>\n",
       "    <tr>\n",
       "      <th>8</th>\n",
       "      <td>(1, 1, 1, 1, 1, 1)</td>\n",
       "      <td>9.655991</td>\n",
       "    </tr>\n",
       "    <tr>\n",
       "      <th>9</th>\n",
       "      <td>(5, 1, 0, 0, 0, 0)</td>\n",
       "      <td>4.623001</td>\n",
       "    </tr>\n",
       "    <tr>\n",
       "      <th>10</th>\n",
       "      <td>(3, 1, 1, 1, 0, 0)</td>\n",
       "      <td>8.430510</td>\n",
       "    </tr>\n",
       "  </tbody>\n",
       "</table>\n",
       "</div>"
      ],
      "text/plain": [
       "                     0         1\n",
       "0   (4, 1, 1, 0, 0, 0)  6.962615\n",
       "1   (2, 1, 1, 1, 1, 0)  9.278217\n",
       "2   (3, 3, 0, 0, 0, 0)  7.205028\n",
       "3   (3, 2, 1, 0, 0, 0)  8.052735\n",
       "4   (2, 2, 2, 0, 0, 0)  8.522669\n",
       "5   (4, 2, 0, 0, 0, 0)  6.584840\n",
       "6   (2, 2, 1, 1, 0, 0)  8.900443\n",
       "7   (6, 0, 0, 0, 0, 0)  0.000000\n",
       "8   (1, 1, 1, 1, 1, 1)  9.655991\n",
       "9   (5, 1, 0, 0, 0, 0)  4.623001\n",
       "10  (3, 1, 1, 1, 0, 0)  8.430510"
      ]
     },
     "execution_count": 14,
     "metadata": {},
     "output_type": "execute_result"
    }
   ],
   "source": [
    "%%time\n",
    "# Normally takes a little under a minute to solve the N=6 Case\n",
    "\n",
    "# We see (1, 1, 1, 1, 1, 1)\tis 9.655991\n",
    "\n",
    "calculate_probs(6)"
   ]
  },
  {
   "cell_type": "markdown",
   "metadata": {},
   "source": [
    "We'll iterate over different values of N and calculate the probability"
   ]
  },
  {
   "cell_type": "code",
   "execution_count": 16,
   "metadata": {},
   "outputs": [
    {
     "name": "stdout",
     "output_type": "stream",
     "text": [
      "N=2 Average: 2.0\n",
      "In cumulative time: 0.001360177993774414\n",
      "N=3 Average: 3.8571428571428563\n",
      "In cumulative time: 0.008723974227905273\n",
      "N=4 Average: 5.779310344827586\n",
      "In cumulative time: 0.09117698669433594\n",
      "N=5 Average: 7.711981680697186\n",
      "In cumulative time: 1.8641388416290283\n",
      "N=6 Average: 9.65599148388557\n",
      "In cumulative time: 59.718831062316895\n"
     ]
    }
   ],
   "source": [
    "result_by_N_calc = []\n",
    "start_time = time.time()\n",
    "for N in np.arange(2,7):\n",
    "    prob = calculate_probs(N)\n",
    "    print(\"N=\" + str(N) + \" Average: \" + str(np.max(prob[1])) + \"\\nIn cumulative time: \"  + str(time.time() - start_time))\n",
    "    result_by_N_calc.append([N,np.max(prob[1])])\n",
    "#plt.plot(np.array(result_by_N).T[0],np.array(result_by_N).T[1])\n",
    "#plt.show()"
   ]
  },
  {
   "cell_type": "markdown",
   "metadata": {},
   "source": [
    "Finally, let's compare the simulations to the actuals:"
   ]
  },
  {
   "cell_type": "code",
   "execution_count": 17,
   "metadata": {},
   "outputs": [
    {
     "data": {
      "text/html": [
       "<div>\n",
       "<style scoped>\n",
       "    .dataframe tbody tr th:only-of-type {\n",
       "        vertical-align: middle;\n",
       "    }\n",
       "\n",
       "    .dataframe tbody tr th {\n",
       "        vertical-align: top;\n",
       "    }\n",
       "\n",
       "    .dataframe thead th {\n",
       "        text-align: right;\n",
       "    }\n",
       "</style>\n",
       "<table border=\"1\" class=\"dataframe\">\n",
       "  <thead>\n",
       "    <tr style=\"text-align: right;\">\n",
       "      <th></th>\n",
       "      <th>N</th>\n",
       "      <th>Calculated # of Rolls</th>\n",
       "      <th>Simulated # of Rolls</th>\n",
       "      <th>Error</th>\n",
       "      <th>Error %</th>\n",
       "    </tr>\n",
       "  </thead>\n",
       "  <tbody>\n",
       "    <tr>\n",
       "      <th>0</th>\n",
       "      <td>2</td>\n",
       "      <td>2.000000</td>\n",
       "      <td>2.0043</td>\n",
       "      <td>-0.004300</td>\n",
       "      <td>0.215000</td>\n",
       "    </tr>\n",
       "    <tr>\n",
       "      <th>1</th>\n",
       "      <td>3</td>\n",
       "      <td>3.857143</td>\n",
       "      <td>3.8933</td>\n",
       "      <td>-0.036157</td>\n",
       "      <td>0.937407</td>\n",
       "    </tr>\n",
       "    <tr>\n",
       "      <th>2</th>\n",
       "      <td>4</td>\n",
       "      <td>5.779310</td>\n",
       "      <td>5.7998</td>\n",
       "      <td>-0.020490</td>\n",
       "      <td>0.354535</td>\n",
       "    </tr>\n",
       "    <tr>\n",
       "      <th>3</th>\n",
       "      <td>5</td>\n",
       "      <td>7.711982</td>\n",
       "      <td>7.7116</td>\n",
       "      <td>0.000382</td>\n",
       "      <td>0.004949</td>\n",
       "    </tr>\n",
       "    <tr>\n",
       "      <th>4</th>\n",
       "      <td>6</td>\n",
       "      <td>9.655991</td>\n",
       "      <td>9.6793</td>\n",
       "      <td>-0.023309</td>\n",
       "      <td>0.241389</td>\n",
       "    </tr>\n",
       "  </tbody>\n",
       "</table>\n",
       "</div>"
      ],
      "text/plain": [
       "   N  Calculated # of Rolls  Simulated # of Rolls     Error   Error %\n",
       "0  2               2.000000                2.0043 -0.004300  0.215000\n",
       "1  3               3.857143                3.8933 -0.036157  0.937407\n",
       "2  4               5.779310                5.7998 -0.020490  0.354535\n",
       "3  5               7.711982                7.7116  0.000382  0.004949\n",
       "4  6               9.655991                9.6793 -0.023309  0.241389"
      ]
     },
     "execution_count": 17,
     "metadata": {},
     "output_type": "execute_result"
    }
   ],
   "source": [
    "calc_table = pd.DataFrame(result_by_N_calc,columns=['N','Calculated # of Rolls'])\n",
    "sim_table = pd.DataFrame(result_by_N_sim,columns=['N','Simulated # of Rolls'])\n",
    "joined_table = calc_table.merge(sim_table,on = 'N')\n",
    "joined_table['Error'] = joined_table['Calculated # of Rolls']  - joined_table['Simulated # of Rolls'] \n",
    "joined_table['Error %'] = np.abs(joined_table['Error']  / joined_table['Calculated # of Rolls'] ) * 100\n",
    "\n",
    "joined_table"
   ]
  },
  {
   "cell_type": "markdown",
   "metadata": {},
   "source": [
    "\n",
    "All the simulation errors are less than 1% off from the calculation!"
   ]
  },
  {
   "cell_type": "markdown",
   "metadata": {},
   "source": [
    "## Shortcomings\n",
    "\n",
    "As you can tell from the time taken, the above doesn't seem to scale very well :/ Calculating for N>6 will take too long, so we stopped there.\n",
    "\n",
    "There is likely a smarter and more scalable way to calculate, but we leave it here for now."
   ]
  },
  {
   "cell_type": "code",
   "execution_count": null,
   "metadata": {},
   "outputs": [],
   "source": []
  }
 ],
 "metadata": {
  "kernelspec": {
   "display_name": "Python 3",
   "language": "python",
   "name": "python3"
  },
  "language_info": {
   "codemirror_mode": {
    "name": "ipython",
    "version": 3
   },
   "file_extension": ".py",
   "mimetype": "text/x-python",
   "name": "python",
   "nbconvert_exporter": "python",
   "pygments_lexer": "ipython3",
   "version": "3.6.4"
  }
 },
 "nbformat": 4,
 "nbformat_minor": 2
}
